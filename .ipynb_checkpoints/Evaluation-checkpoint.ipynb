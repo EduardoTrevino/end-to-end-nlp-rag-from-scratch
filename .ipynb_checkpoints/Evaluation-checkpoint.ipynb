{
 "cells": [
  {
   "cell_type": "markdown",
   "metadata": {},
   "source": [
    "# Vector DB"
   ]
  },
  {
   "cell_type": "code",
   "execution_count": null,
   "metadata": {},
   "outputs": [],
   "source": [
    "from langchain_community.embeddings import GPT4AllEmbeddings\n",
    "from langchain_community.vectorstores import Chroma\n",
    "\n",
    "\n",
    "vectorstore = Chroma(persist_directory=\"db\", embedding_function=GPT4AllEmbeddings())"
   ]
  },
  {
   "cell_type": "markdown",
   "metadata": {},
   "source": [
    "# Load Files"
   ]
  },
  {
   "cell_type": "code",
   "execution_count": 2,
   "metadata": {},
   "outputs": [
    {
     "name": "stdout",
     "output_type": "stream",
     "text": [
      "['Q: Who founded Carnegie Mellon University and what type of pet did he keep?\\n', 'A: Andrew Carnegie founded Carnegie Mellon University and had a Scottish terrier.\\n', 'D: 01.txt\\n', '\\n', 'Q: When did Carnegie Mellon officially start the process to select a mascot?\\n', 'A: The mascot selection process at Carnegie Mellon began in November 2006.\\n', 'D: 01.txt\\n', '\\n', 'Q: Who co-chaired the Mascot Identity Task Force at Carnegie Mellon?\\n', 'A: Susan Bassett and Jennifer Church co-chaired the Mascot Identity Task Force.\\n', 'D: 01.txt\\n', '\\n', 'Q: How did the Carnegie Mellon community participate in the mascot selection process?\\n', 'A: The community participated in the mascot choice through surveys and a Town Hall.\\n', 'D: 01.txt\\n', '\\n', 'Q: What percentage of students voted for the Scottish terrier as the mascot in the 2007 survey?\\n', 'A: 78% of 2,370 students voted for the Scottish terrier as the mascot in 2007.\\n', 'D: 01.txt\\n', '\\n', 'Q: What misconception did approximately 25 percent of surveyed alumni have about the Scottish terrier?\\n', 'A: 25% of surveyed alumni mistakenly believed the Scottish terrier was already the mascot.\\n', 'D: 01.txt\\n', '\\n', 'Q: Which company did Carnegie Mellon partner with to develop the graphics for the mascot?\\n', 'A: Carnegie Mellon collaborated with SME Branding for mascot graphics.\\n', 'D: 01.txt\\n', '\\n', 'Q: When did the official mascot of Carnegie Mellon debut?\\n', 'A: The mascot debuted at the home football game on Nov. 10, 2007.\\n', 'D: 01.txt\\n', '\\n', \"Q: What does the graphic of Carnegie Mellon's official mascot feature?\\n\", 'A: The mascot graphic features a Scottish terrier with a plaid scarf in a shield.\\n', 'D: 01.txt\\n', '\\n', 'Q: When was the official Scotty costume unveiled?\\n', 'A: The Scotty costume was revealed at the 2008 Spring Carnival.\\n', 'D: 01.txt\\n', '\\n', \"Q: What breed is Carnegie Mellon University's mascot?\\n\", \"A: The university's mascot is a Scottish terrier.\\n\", 'D: 01.txt\\n', '\\n', 'Q: What was the role of focus groups in the mascot selection process?\\n', 'A: Focus groups with students and alumni helped select the mascot image.\\n', 'D: 01.txt\\n', '\\n', 'Q: What are some of the temperament traits of the Scottish Terrier breed?\\n', 'A: The Scottish Terrier is known for its keen, alert, intelligence, and determined temperament.\\n', 'D: 02.txt\\n', '\\n', \"Q: Why was the Scottish Terrier chosen as Carnegie Mellon University's mascot?\\n\", \"A: It was chosen as the mascot for embodying CMU's traits like strength, agility, and determination.\\n\", 'D: 02.txt\\n', '\\n', 'Q: What physical aspects of the Scottish Terrier exemplify its representation as a mascot?\\n', 'A: Its representation includes strength, power, and agility in a compact form.\\n', 'D: 02.txt\\n', '\\n', \"Q: How does the Scottish Terrier's temperament reflect on Carnegie Mellon University's ethos?\\n\", \"A: The terrier's temperament of determination and thoughtfulness reflects CMU's ethos.\\n\", 'D: 02.txt\\n', '\\n', 'Q: What qualities make the Scottish Terrier a natural choice for a university mascot, specifically Carnegie Mellon?\\n', 'A: Its keen, alert intelligence, strength, and agility make it a fitting mascot for CMU.\\n', 'D: 02.txt\\n', '\\n', \"Q: Can you describe the Scottish Terrier's expression and how it relates to its role as a mascot?\\n\", \"A: The terrier's keen, alert, and intelligent look symbolizes CMU's valued qualities.\\n\", 'D: 02.txt\\n', '\\n', \"Q: What are the key physical traits of the Scottish Terrier that align with Carnegie Mellon University's image?\\n\", \"A: Key traits include strength, power, and agility, aligning with CMU's image.\\n\", 'D: 02.txt\\n', '\\n', \"Q: How does the Scottish Terrier's agility contribute to its symbolic representation for Carnegie Mellon University?\\n\", \"A: Its agility symbolizes CMU's ability to adapt and innovate.\\n\", 'D: 02.txt\\n', '\\n', \"Q: In what way does the Scottish Terrier's determined temperament mirror the characteristics of Carnegie Mellon University?\\n\", \"A: The terrier's determination mirrors CMU's dedication to excellence.\\n\", 'D: 02.txt\\n', '\\n', \"Q: How does the combination of physical and temperament traits of the Scottish Terrier enhance its suitability as Carnegie Mellon University's mascot?\\n\", \"A: Its physical and temperament traits together symbolize CMU's values of strength, intelligence, and determination.\\n\", 'D: 02.txt\\n', '\\n', 'Q: Who won the vote for the mascot of Carnegie Mellon University?\\n', 'A: Nearly 78 percent of 2,370 students surveyed in February 2007 voted for the Scottish terrier.\\n', 'D: 01.txt\\n', '\\n', 'Q: Why was the Scottish terrier chosen as the mascot of Carnegie Mellon University?\\n', 'A: The Scottish terrier was chosen as the mascot because it won the vote in a series of surveys and a university Town Hall meeting. Additionally, Carnegie Mellon University had a history of connection with the breed.\\n', 'D: 01.txt\\n', '\\n', 'Q: What is the graphic of the official mascot of Carnegie Mellon University?\\n', \"A: The graphic of the official mascot of Carnegie Mellon University features a profile of a distinguished, bold Scottish terrier sporting a plaid scarf around his neck. The dog is contained in a shield, representing Carnegie Mellon's Scottish heritage.\\n\", 'D: 01.txt']\n"
     ]
    }
   ],
   "source": [
    "directories = [\"About Scottie\"]\n",
    "\n",
    "for i in directories:\n",
    "    f = open(i + \"/annotation.txt\", \"r\")\n",
    "    data = f.readlines()\n",
    "    print(data)\n",
    "    f.close()\n",
    "    break"
   ]
  },
  {
   "cell_type": "code",
   "execution_count": null,
   "metadata": {},
   "outputs": [],
   "source": []
  }
 ],
 "metadata": {
  "kernelspec": {
   "display_name": "Python 3",
   "language": "python",
   "name": "python3"
  },
  "language_info": {
   "codemirror_mode": {
    "name": "ipython",
    "version": 3
   },
   "file_extension": ".py",
   "mimetype": "text/x-python",
   "name": "python",
   "nbconvert_exporter": "python",
   "pygments_lexer": "ipython3",
   "version": "3.9.6"
  }
 },
 "nbformat": 4,
 "nbformat_minor": 2
}
