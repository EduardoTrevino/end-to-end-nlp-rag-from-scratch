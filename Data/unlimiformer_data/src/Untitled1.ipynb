{
 "cells": [
  {
   "cell_type": "code",
   "execution_count": 1,
   "metadata": {},
   "outputs": [
    {
     "name": "stdout",
     "output_type": "stream",
     "text": [
      "Number of files in the folder: 770\n"
     ]
    }
   ],
   "source": [
    "import os\n",
    "\n",
    "def count_files_in_folder(folder_path):\n",
    "    \"\"\"\n",
    "    Counts the number of files in the specified folder.\n",
    "    \n",
    "    Args:\n",
    "    - folder_path (str): The path to the folder whose files are to be counted.\n",
    "\n",
    "    Returns:\n",
    "    - int: The number of files in the folder.\n",
    "    \"\"\"\n",
    "    # Ensure the folder path is valid\n",
    "    if not os.path.isdir(folder_path):\n",
    "        print(f\"The path {folder_path} is not a valid directory.\")\n",
    "        return 0\n",
    "\n",
    "    # Count the files\n",
    "    file_count = len([name for name in os.listdir(folder_path) if os.path.isfile(os.path.join(folder_path, name))])\n",
    "    return file_count\n",
    "\n",
    "# Example usage\n",
    "folder_path = 'grahamDocs4clusters' # Replace with your folder path\n",
    "print(f\"Number of files in the folder: {count_files_in_folder(folder_path)}\")"
   ]
  }
 ],
 "metadata": {
  "kernelspec": {
   "display_name": "unlimiformer",
   "language": "python",
   "name": "unlimiformer"
  },
  "language_info": {
   "codemirror_mode": {
    "name": "ipython",
    "version": 3
   },
   "file_extension": ".py",
   "mimetype": "text/x-python",
   "name": "python",
   "nbconvert_exporter": "python",
   "pygments_lexer": "ipython3",
   "version": "3.10.13"
  }
 },
 "nbformat": 4,
 "nbformat_minor": 4
}
