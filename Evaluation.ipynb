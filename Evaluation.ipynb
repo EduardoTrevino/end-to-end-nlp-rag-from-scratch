{
 "cells": [
  {
   "cell_type": "code",
   "execution_count": 1,
   "metadata": {},
   "outputs": [],
   "source": [
    "from collections import Counter\n",
    "import numpy as np\n",
    "import re \n",
    "\n",
    "def normalize_answer(s):\n",
    "    # Lower case, remove punctuation, and whitespaces ### PLEASE CHECK If logic correct / desired ######## \n",
    "    return ' '.join(re.sub(r'[^A-Za-z0-9]', ' ', re.sub(r'\\b(a|an|the)\\b', ' ', s.lower())).split())\n",
    "\n",
    "def metrics(annotation_answers, rag_answers):\n",
    "    f1_scores, exact_matches, recall_scores = [], [], []\n",
    "    \n",
    "    for pred, truth in zip(annotation_answers, rag_answers):\n",
    "        pred_tokens, truth_tokens = normalize_answer(pred).split(), normalize_answer(truth).split()\n",
    "        common_tokens = Counter(pred_tokens) & Counter(truth_tokens)\n",
    "        num_common = sum(common_tokens.values())\n",
    "        \n",
    "        prec = (num_common / len(pred_tokens))\n",
    "        rec = (num_common / len(truth_tokens)) \n",
    "\n",
    "        f1_scores.append( 0 if prec+rec == 0 else (2*(prec*rec)/(prec + rec)))\n",
    "        exact_matches.append(int(pred_tokens == truth_tokens))\n",
    "        recall_scores.append(rec if truth_tokens else 0)\n",
    "    \n",
    "    return np.mean(f1_scores), np.mean(exact_matches), np.mean(recall_scores)"
   ]
  },
  {
   "cell_type": "code",
   "execution_count": 2,
   "metadata": {},
   "outputs": [
    {
     "data": {
      "text/plain": [
       "'\\nCitation: \\n    The use of chatgpt for the normalize answer and for using the counter function only\\n'"
      ]
     },
     "execution_count": 2,
     "metadata": {},
     "output_type": "execute_result"
    }
   ],
   "source": [
    "\"\"\"\n",
    "Citation: \n",
    "    The use of chatgpt for the normalize answer and for using the counter function only\n",
    "\"\"\""
   ]
  },
  {
   "cell_type": "code",
   "execution_count": 3,
   "metadata": {},
   "outputs": [],
   "source": [
    "def getFileData(filename):\n",
    "    f = open(filename, \"r\")\n",
    "    data = f.readlines()\n",
    "    f.close()\n",
    "    data = [i.strip() for i in data]\n",
    "    return data"
   ]
  },
  {
   "cell_type": "code",
   "execution_count": 28,
   "metadata": {},
   "outputs": [
    {
     "data": {
      "text/plain": [
       "(0.23105094889028244, 0.0, 0.17675869722203136)"
      ]
     },
     "execution_count": 28,
     "metadata": {},
     "output_type": "execute_result"
    }
   ],
   "source": [
    "# GPT4All Embeddings + Llama2\n",
    "\n",
    "refrence_answers = getFileData(\"SubmissionData/test/reference_answers.txt\")\n",
    "system_generated_answers = getFileData(\"SubmissionData/system_outputs/system_output_1.txt\")\n",
    "\n",
    "metrics(refrence_answers, system_generated_answers)"
   ]
  },
  {
   "cell_type": "code",
   "execution_count": 27,
   "metadata": {},
   "outputs": [
    {
     "data": {
      "text/plain": [
       "(0.3569133369324437, 0.0379746835443038, 0.33798993223464463)"
      ]
     },
     "execution_count": 27,
     "metadata": {},
     "output_type": "execute_result"
    }
   ],
   "source": [
    "# all-miniLM-l6-v2 embeddings + LLama2\n",
    "\n",
    "refrence_answers = getFileData(\"SubmissionData/test/reference_answers.txt\")\n",
    "system_generated_answers = getFileData(\"SubmissionData/system_outputs/system_output_2.txt\")\n",
    "\n",
    "metrics(refrence_answers, system_generated_answers)"
   ]
  },
  {
   "cell_type": "code",
   "execution_count": 26,
   "metadata": {},
   "outputs": [
    {
     "data": {
      "text/plain": [
       "(0.37367435697686446, 0.02531645569620253, 0.3185538110816663)"
      ]
     },
     "execution_count": 26,
     "metadata": {},
     "output_type": "execute_result"
    }
   ],
   "source": [
    "# mistral embeddings + LLama2\n",
    "\n",
    "refrence_answers = getFileData(\"SubmissionData/test/reference_answers.txt\")\n",
    "system_generated_answers = getFileData(\"SubmissionData/system_outputs/system_output_3.txt\")\n",
    "\n",
    "metrics(refrence_answers, system_generated_answers)"
   ]
  },
  {
   "cell_type": "code",
   "execution_count": 25,
   "metadata": {},
   "outputs": [
    {
     "data": {
      "text/plain": [
       "(0.04237111803781401, 0.0, 0.04669124425295719)"
      ]
     },
     "execution_count": 25,
     "metadata": {},
     "output_type": "execute_result"
    }
   ],
   "source": [
    "# all-miniLM-l6-v2 embeddings + Dragon Mistral\n",
    "\n",
    "refrence_answers = getFileData(\"SubmissionData/test/reference_answers.txt\")\n",
    "system_generated_answers = getFileData(\"SubmissionData/system_outputs/system_output_5.txt\")\n",
    "\n",
    "system_generated_answers = [i for i in system_generated_answers if i != \"\"]\n",
    "metrics(refrence_answers, system_generated_answers)"
   ]
  },
  {
   "cell_type": "code",
   "execution_count": 24,
   "metadata": {},
   "outputs": [
    {
     "data": {
      "text/plain": [
       "(0.03734369574591945, 0.0, 0.04852857655033772)"
      ]
     },
     "execution_count": 24,
     "metadata": {},
     "output_type": "execute_result"
    }
   ],
   "source": [
    "refrence_answers = getFileData(\"SubmissionData/test/reference_answers.txt\")\n",
    "system_generated_answers = getFileData(\"SubmissionData/system_outputs/miniLM_mistral.txt\")\n",
    "\n",
    "system_generated_answers = [i for i in system_generated_answers if i != \"\"]\n",
    "metrics(refrence_answers, system_generated_answers)"
   ]
  },
  {
   "cell_type": "code",
   "execution_count": 23,
   "metadata": {},
   "outputs": [
    {
     "data": {
      "text/plain": [
       "(0.4142937759054067, 0.05063291139240506, 0.3685443983028275)"
      ]
     },
     "execution_count": 23,
     "metadata": {},
     "output_type": "execute_result"
    }
   ],
   "source": [
    "refrence_answers = getFileData(\"SubmissionData/test/reference_answers.txt\")\n",
    "system_generated_answers = getFileData(\"SubmissionData/system_outputs/colbert.txt\")\n",
    "\n",
    "system_generated_answers = [i for i in system_generated_answers if i != \"\"]\n",
    "metrics(refrence_answers, system_generated_answers)"
   ]
  },
  {
   "cell_type": "code",
   "execution_count": null,
   "metadata": {},
   "outputs": [],
   "source": []
  }
 ],
 "metadata": {
  "kernelspec": {
   "display_name": "llama_hw",
   "language": "python",
   "name": "python3"
  },
  "language_info": {
   "codemirror_mode": {
    "name": "ipython",
    "version": 3
   },
   "file_extension": ".py",
   "mimetype": "text/x-python",
   "name": "python",
   "nbconvert_exporter": "python",
   "pygments_lexer": "ipython3",
   "version": "3.9.6"
  }
 },
 "nbformat": 4,
 "nbformat_minor": 2
}
