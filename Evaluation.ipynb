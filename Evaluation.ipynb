{
 "cells": [
  {
   "cell_type": "code",
   "execution_count": 1,
   "metadata": {},
   "outputs": [],
   "source": [
    "from collections import Counter\n",
    "import numpy as np\n",
    "import re \n",
    "\n",
    "def normalize_answer(s):\n",
    "    # Lower case, remove punctuation, and whitespaces ### PLEASE CHECK If logic correct / desired ######## \n",
    "    return ' '.join(re.sub(r'[^A-Za-z0-9]', ' ', re.sub(r'\\b(a|an|the)\\b', ' ', s.lower())).split())\n",
    "\n",
    "def metrics(annotation_answers, rag_answers):\n",
    "    f1_scores, exact_matches, recall_scores = [], [], []\n",
    "    \n",
    "    for pred, truth in zip(annotation_answers, rag_answers):\n",
    "        pred_tokens, truth_tokens = normalize_answer(pred).split(), normalize_answer(truth).split()\n",
    "        common_tokens = Counter(pred_tokens) & Counter(truth_tokens)\n",
    "        num_common = sum(common_tokens.values())\n",
    "        \n",
    "        prec = (num_common / len(pred_tokens))\n",
    "        rec = (num_common / len(truth_tokens)) \n",
    "\n",
    "        f1_scores.append( 0 if prec+rec == 0 else (2*(prec*rec)/(prec + rec)))\n",
    "        exact_matches.append(int(pred_tokens == truth_tokens))\n",
    "        recall_scores.append(rec if truth_tokens else 0)\n",
    "    \n",
    "    return np.mean(f1_scores), np.mean(exact_matches), np.mean(recall_scores)"
   ]
  },
  {
   "cell_type": "code",
   "execution_count": 2,
   "metadata": {},
   "outputs": [],
   "source": [
    "#MODIFIED\n",
    "import numpy as np\n",
    "\n",
    "def metrics(annotation_answers, rag_answers):\n",
    "    f1_scores, exact_matches, recall_scores = [], [], []\n",
    "    \n",
    "    for pred, truth in zip(annotation_answers, rag_answers):\n",
    "        pred_tokens, truth_tokens = normalize_answer(pred).split(), normalize_answer(truth).split()\n",
    "\n",
    "        # Avoid division by zero by checking if pred_tokens or truth_tokens are empty\n",
    "        if len(pred_tokens) == 0 or len(truth_tokens) == 0:\n",
    "            prec = 0\n",
    "            rec = 0\n",
    "        else:\n",
    "            common_tokens = Counter(pred_tokens) & Counter(truth_tokens)\n",
    "            num_common = sum(common_tokens.values())\n",
    "            prec = (num_common / len(pred_tokens))\n",
    "            rec = (num_common / len(truth_tokens))\n",
    "\n",
    "        f1_scores.append(0 if prec + rec == 0 else (2 * (prec * rec) / (prec + rec)))\n",
    "        exact_matches.append(int(pred_tokens == truth_tokens))\n",
    "        recall_scores.append(rec if truth_tokens else 0)\n",
    "\n",
    "    return np.mean(f1_scores), np.mean(exact_matches), np.mean(recall_scores)\n"
   ]
  },
  {
   "cell_type": "code",
   "execution_count": 3,
   "metadata": {},
   "outputs": [
    {
     "data": {
      "text/plain": [
       "'\\nCitation: \\n    The use of chatgpt for the normalize answer and for using the counter function only\\n'"
      ]
     },
     "execution_count": 3,
     "metadata": {},
     "output_type": "execute_result"
    }
   ],
   "source": [
    "\"\"\"\n",
    "Citation: \n",
    "    The use of chatgpt for the normalize answer and for using the counter function only\n",
    "\"\"\""
   ]
  },
  {
   "cell_type": "code",
   "execution_count": 4,
   "metadata": {},
   "outputs": [],
   "source": [
    "def getFileData(filename):\n",
    "    f = open(filename, \"r\")\n",
    "    data = f.readlines()\n",
    "    f.close()\n",
    "    data = [i.strip() for i in data]\n",
    "    return data"
   ]
  },
  {
   "cell_type": "code",
   "execution_count": 5,
   "metadata": {},
   "outputs": [],
   "source": [
    "import os\n",
    "directories = [\"Web Scholar PDFs\", \"About Scottie\", \"Buggy News\", \"academic_calendars\", \"history_of_cmu\", \"history_of_scs\", \"Kiltie Band\", \"lti_faculty\", \"lti_programs\", \"program_handbooks\", \"Tartan Facts\", \"courses\"]\n",
    "\n",
    "\n",
    "questions = {}\n",
    "for i in directories:\n",
    "    if \"annotation.txt\" in os.listdir(\"Data/\"+i):\n",
    "        f = open(\"Data/\"+i + \"/annotation.txt\")\n",
    "        lines = f.readlines()\n",
    "        f.close()\n",
    "\n",
    "        q = lines[0::5]\n",
    "        t = lines[3::5]\n",
    "\n",
    "\n",
    "        for count, j in enumerate(q):\n",
    "            questions[j[3:].strip()] = (t[count][3:].strip())"
   ]
  },
  {
   "cell_type": "code",
   "execution_count": 31,
   "metadata": {},
   "outputs": [],
   "source": [
    "\n",
    "f = open(\"SubmissionData/test/questions.txt\", \"r\")\n",
    "ref_qs = [i.strip() for i in f.readlines()]\n",
    "f.close()\n",
    "\n",
    "def getPairsByType(ref_qs, annotation_answers, rag_answers):\n",
    "    pairs = {}\n",
    "\n",
    "    \n",
    "\n",
    "    for count, i in enumerate(ref_qs):\n",
    "        if i in questions:\n",
    "            t = questions[i]\n",
    "            if t in pairs:\n",
    "                pairs[t][0].append(rag_answers[count])\n",
    "                pairs[t][1].append(annotation_answers[count])\n",
    "            else:\n",
    "                pairs[t] = [[], []]\n",
    "                pairs[t][0] = [rag_answers[count]]\n",
    "                pairs[t][1] = [annotation_answers[count]]\n",
    "            \n",
    "\n",
    "    return pairs\n",
    "\n",
    "\n",
    "def getRecallByTypes(s, questions):\n",
    "    keyFreq = {}\n",
    "    for i in questions:\n",
    "        if questions[i] in keyFreq:\n",
    "            keyFreq[questions[i]] += 1\n",
    "        else:\n",
    "            keyFreq[questions[i]] = 1\n",
    "            \n",
    "    res = {}\n",
    "    for i in s:\n",
    "        _, _, recall = metrics(s[i][0], s[i][1])\n",
    "        res[i] = recall/keyFreq[i]\n",
    "\n",
    "    \n",
    "\n",
    "    return [(str(i), res[str(i)]) for i in sorted([int(i) for i in res.keys()])]\n",
    "\n"
   ]
  },
  {
   "cell_type": "code",
   "execution_count": 32,
   "metadata": {},
   "outputs": [],
   "source": [
    "# Reference annotations\n",
    "refrence_answers = getFileData(\"SubmissionData/test/reference_answers.txt\")"
   ]
  },
  {
   "cell_type": "code",
   "execution_count": 33,
   "metadata": {},
   "outputs": [
    {
     "name": "stdout",
     "output_type": "stream",
     "text": [
      "gpt4all (0.23105094889028244, 0.0, 0.17675869722203136)\n",
      "[('1', 0.0018382995127181171), ('2', 0.00916793020360879), ('3', 0.035416666666666666), ('5', 0.0125), ('6', 0.00866663154798748), ('7', 0.015467416982568497), ('8', 0.06060606060606061), ('9', 0.03857142857142857), ('10', 0.010476190476190476)]\n",
      "miniLM (0.3491102398471225, 0.0379746835443038, 0.3037977502482182)\n",
      "[('1', 0.0021602286891866497), ('2', 0.010318801513390045), ('3', 0.032873931623931624), ('5', 0.0875), ('6', 0.011183836042593105), ('7', 0.015078131744798412), ('8', 0.24242424242424243), ('9', 0.060238095238095236), ('10', 0.018857142857142854)]\n",
      "llmEmbed (0.35181070114959034, 0.02531645569620253, 0.3247909502855802)\n",
      "[('1', 0.0018977138610412312), ('2', 0.00896156990506245), ('3', 0.046057692307692306), ('5', 0.075), ('6', 0.018457426649517047), ('7', 0.016519115003963487), ('8', 0.27272727272727276), ('9', 0.04047619047619048), ('10', 0.018857142857142854)]\n",
      "mistral (0.28001888388798374, 0.012658227848101266, 0.2474462005017682)\n",
      "[('1', 0.0017987184914734107), ('2', 0.0068175169003675765), ('3', 0.028995726495726497), ('5', 0.0125), ('6', 0.019332467072580063), ('7', 0.010201863232166264), ('8', 0.12121212121212122), ('9', 0.01785714285714286), ('10', 0.023476190476190477)]\n",
      "colbert (0.4184921453162676, 0.05063291139240506, 0.3744027543652713)\n",
      "[('1', 0.002286039570811485), ('2', 0.010656167689969053), ('3', 0.04840811965811965), ('5', 0.0125), ('6', 0.015384542220700412), ('7', 0.01813119540392268), ('8', 0.27272727272727276), ('9', 0.05238095238095238), ('10', 0.02442857142857143)]\n",
      "rerank (0.36428925570940424, 0.0379746835443038, 0.3278893985135896)\n",
      "[('1', 0.0019485621257759008), ('2', 0.009517775395198361), ('3', 0.04405982905982905), ('5', 0.075), ('6', 0.018372922327724587), ('7', 0.019585128676037768), ('8', 0.30303030303030304), ('9', 0.028333333333333335), ('10', 0.022523809523809522)]\n",
      "2cluster (0.43919092859505904, 0.05063291139240506, 0.39470423587580006)\n",
      "[('1', 0.0025682828567443953), ('2', 0.0115368112708351), ('3', 0.04636752136752136), ('5', 0.0125), ('6', 0.009523746811882406), ('7', 0.01812687873293934), ('8', 0.24242424242424243), ('9', 0.045238095238095244), ('10', 0.022142857142857145)]\n",
      "4cluster w unlimiformer (0.43477073539220035, 0.0759493670886076, 0.365626385280889)\n",
      "[('1', 0.002970937807140849), ('2', 0.011810814496901358), ('3', 0.0526923076923077), ('5', 0.0125), ('6', 0.014358418313220576), ('7', 0.021846671846671845), ('8', 0.30303030303030304), ('9', 0.07214285714285713), ('10', 0.025142857142857147)]\n"
     ]
    }
   ],
   "source": [
    "system_generated_answers = getFileData(\"SubmissionData/system_outputs/system_output_1.txt\")\n",
    "print(\"gpt4all\", metrics(refrence_answers, system_generated_answers))\n",
    "print(getRecallByTypes(getPairsByType(ref_qs, refrence_answers, system_generated_answers), questions))\n",
    "\n",
    "system_generated_answers = getFileData(\"SubmissionData/system_outputs/test_miniLM.txt\")\n",
    "print(\"miniLM\", metrics(refrence_answers, system_generated_answers))\n",
    "print(getRecallByTypes(getPairsByType(ref_qs, refrence_answers, system_generated_answers), questions))\n",
    "\n",
    "\n",
    "system_generated_answers = getFileData(\"SubmissionData/system_outputs/test_llmEmbed.txt\")\n",
    "print(\"llmEmbed\", metrics(refrence_answers, system_generated_answers))\n",
    "print(getRecallByTypes(getPairsByType(ref_qs, refrence_answers, system_generated_answers), questions))\n",
    "\n",
    "\n",
    "system_generated_answers = getFileData(\"SubmissionData/system_outputs/MistralEmbeddingsTest.txt\")\n",
    "print(\"mistral\",  metrics(refrence_answers, system_generated_answers))\n",
    "print(getRecallByTypes(getPairsByType(ref_qs, refrence_answers, system_generated_answers), questions))\n",
    "\n",
    "\n",
    "system_generated_answers = getFileData(\"SubmissionData/system_outputs/test_colbert.txt\")\n",
    "print(\"colbert\", metrics(refrence_answers, system_generated_answers))\n",
    "print(getRecallByTypes(getPairsByType(ref_qs, refrence_answers, system_generated_answers), questions))\n",
    "\n",
    "\n",
    "system_generated_answers = getFileData(\"SubmissionData/system_outputs/test_rerank.txt\")\n",
    "print(\"rerank\", metrics(refrence_answers, system_generated_answers))\n",
    "print(getRecallByTypes(getPairsByType(ref_qs, refrence_answers, system_generated_answers), questions))\n",
    "\n",
    "system_generated_answers = getFileData(\"SubmissionData/system_outputs/final_2cluster_test.txt\")\n",
    "print(\"2cluster\", metrics(refrence_answers, system_generated_answers))\n",
    "print(getRecallByTypes(getPairsByType(ref_qs, refrence_answers, system_generated_answers), questions))\n",
    "\n",
    "\n",
    "system_generated_answers = getFileData(\"SubmissionData/system_outputs/4clusterTESTSET.txt\")\n",
    "print(\"4cluster w unlimiformer\", metrics(refrence_answers, system_generated_answers))\n",
    "print(getRecallByTypes(getPairsByType(ref_qs, refrence_answers, system_generated_answers), questions))\n",
    "\n",
    "\n"
   ]
  },
  {
   "cell_type": "code",
   "execution_count": null,
   "metadata": {},
   "outputs": [],
   "source": []
  }
 ],
 "metadata": {
  "kernelspec": {
   "display_name": "Python 3",
   "language": "python",
   "name": "python3"
  },
  "language_info": {
   "codemirror_mode": {
    "name": "ipython",
    "version": 3
   },
   "file_extension": ".py",
   "mimetype": "text/x-python",
   "name": "python",
   "nbconvert_exporter": "python",
   "pygments_lexer": "ipython3",
   "version": "3.7.6"
  }
 },
 "nbformat": 4,
 "nbformat_minor": 4
}
