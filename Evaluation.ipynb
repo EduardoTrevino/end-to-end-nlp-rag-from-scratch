{
 "cells": [
  {
   "cell_type": "code",
   "execution_count": 2,
   "metadata": {},
   "outputs": [],
   "source": [
    "from collections import Counter\n",
    "import numpy as np\n",
    "import re \n",
    "\n",
    "def normalize_answer(s):\n",
    "    # Lower case, remove punctuation, and whitespaces ### PLEASE CHECK If logic correct / desired ######## \n",
    "    return ' '.join(re.sub(r'[^A-Za-z0-9]', ' ', re.sub(r'\\b(a|an|the)\\b', ' ', s.lower())).split())\n",
    "\n",
    "def metrics(annotation_answers, rag_answers):\n",
    "    f1_scores, exact_matches, recall_scores = [], [], []\n",
    "    \n",
    "    for pred, truth in zip(annotation_answers, rag_answers):\n",
    "        pred_tokens, truth_tokens = normalize_answer(pred).split(), normalize_answer(truth).split()\n",
    "        common_tokens = Counter(pred_tokens) & Counter(truth_tokens)\n",
    "        num_common = sum(common_tokens.values())\n",
    "        \n",
    "        prec = (num_common / len(pred_tokens))\n",
    "        rec = (num_common / len(truth_tokens)) \n",
    "\n",
    "        f1_scores.append( 0 if prec+rec == 0 else (2*(prec*rec)/(prec + rec)))\n",
    "        exact_matches.append(int(pred_tokens == truth_tokens))\n",
    "        recall_scores.append(rec if truth_tokens else 0)\n",
    "    \n",
    "    return np.mean(f1_scores), np.mean(exact_matches), np.mean(recall_scores)"
   ]
  },
  {
   "cell_type": "code",
   "execution_count": 3,
   "metadata": {},
   "outputs": [],
   "source": [
    "#MODIFIED\n",
    "import numpy as np\n",
    "\n",
    "def metrics(annotation_answers, rag_answers):\n",
    "    f1_scores, exact_matches, recall_scores = [], [], []\n",
    "    \n",
    "    for pred, truth in zip(annotation_answers, rag_answers):\n",
    "        pred_tokens, truth_tokens = normalize_answer(pred).split(), normalize_answer(truth).split()\n",
    "\n",
    "        # Avoid division by zero by checking if pred_tokens or truth_tokens are empty\n",
    "        if len(pred_tokens) == 0 or len(truth_tokens) == 0:\n",
    "            prec = 0\n",
    "            rec = 0\n",
    "        else:\n",
    "            common_tokens = Counter(pred_tokens) & Counter(truth_tokens)\n",
    "            num_common = sum(common_tokens.values())\n",
    "            prec = (num_common / len(pred_tokens))\n",
    "            rec = (num_common / len(truth_tokens))\n",
    "\n",
    "        f1_scores.append(0 if prec + rec == 0 else (2 * (prec * rec) / (prec + rec)))\n",
    "        exact_matches.append(int(pred_tokens == truth_tokens))\n",
    "        recall_scores.append(rec if truth_tokens else 0)\n",
    "\n",
    "    return np.mean(f1_scores), np.mean(exact_matches), np.mean(recall_scores)\n"
   ]
  },
  {
   "cell_type": "code",
   "execution_count": 3,
   "metadata": {},
   "outputs": [
    {
     "data": {
      "text/plain": [
       "'\\nCitation: \\n    The use of chatgpt for the normalize answer and for using the counter function only\\n'"
      ]
     },
     "execution_count": 3,
     "metadata": {},
     "output_type": "execute_result"
    }
   ],
   "source": [
    "\"\"\"\n",
    "Citation: \n",
    "    The use of chatgpt for the normalize answer and for using the counter function only\n",
    "\"\"\""
   ]
  },
  {
   "cell_type": "code",
   "execution_count": 4,
   "metadata": {},
   "outputs": [],
   "source": [
    "def getFileData(filename):\n",
    "    f = open(filename, \"r\")\n",
    "    data = f.readlines()\n",
    "    f.close()\n",
    "    data = [i.strip() for i in data]\n",
    "    return data"
   ]
  },
  {
   "cell_type": "code",
   "execution_count": 5,
   "metadata": {},
   "outputs": [],
   "source": [
    "# Reference annotations\n",
    "refrence_answers = getFileData(\"SubmissionData/test/reference_answers.txt\")"
   ]
  },
  {
   "cell_type": "code",
   "execution_count": 35,
   "metadata": {},
   "outputs": [
    {
     "name": "stdout",
     "output_type": "stream",
     "text": [
      "gpt4all (0.23105094889028244, 0.0, 0.17675869722203136)\n",
      "miniLM (0.3491102398471225, 0.0379746835443038, 0.3037977502482182)\n",
      "llmEmbed (0.35181070114959034, 0.02531645569620253, 0.3247909502855802)\n",
      "mistral (0.28001888388798374, 0.012658227848101266, 0.2474462005017682)\n",
      "colbert (0.4184921453162676, 0.05063291139240506, 0.3744027543652713)\n",
      "rerank (0.36428925570940424, 0.0379746835443038, 0.3278893985135896)\n",
      "2cluster (0.43919092859505904, 0.05063291139240506, 0.39470423587580006)\n",
      "4cluster + unlimiformer (0.43477073539220035, 0.0759493670886076, 0.365626385280889)\n"
     ]
    }
   ],
   "source": [
    "system_generated_answers = getFileData(\"SubmissionData/system_outputs/system_output_1.txt\")\n",
    "print(\"gpt4all\", metrics(refrence_answers, system_generated_answers))\n",
    "\n",
    "system_generated_answers = getFileData(\"SubmissionData/system_outputs/test_miniLM.txt\")\n",
    "print(\"miniLM\", metrics(refrence_answers, system_generated_answers))\n",
    "\n",
    "system_generated_answers = getFileData(\"SubmissionData/system_outputs/test_llmEmbed.txt\")\n",
    "print(\"llmEmbed\", metrics(refrence_answers, system_generated_answers))\n",
    "\n",
    "system_generated_answers = getFileData(\"SubmissionData/system_outputs/MistralEmbeddingsTest.txt\")\n",
    "print(\"mistral\",  metrics(refrence_answers, system_generated_answers))\n",
    "\n",
    "system_generated_answers = getFileData(\"SubmissionData/system_outputs/test_colbert.txt\")\n",
    "print(\"colbert\", metrics(refrence_answers, system_generated_answers))\n",
    "\n",
    "system_generated_answers = getFileData(\"SubmissionData/system_outputs/test_rerank.txt\")\n",
    "print(\"rerank\", metrics(refrence_answers, system_generated_answers))\n",
    "\n",
    "system_generated_answers = getFileData(\"SubmissionData/system_outputs/final_2cluster_test.txt\")\n",
    "print(\"2cluster\", metrics(refrence_answers, system_generated_answers))\n",
    "\n",
    "system_generated_answers = getFileData(\"SubmissionData/system_outputs/4clusterTESTSET.txt\")\n",
    "print(\"4cluster w unlimiformer\", metrics(refrence_answers, system_generated_answers))\n",
    "\n"
   ]
  },
  {
   "cell_type": "code",
   "execution_count": null,
   "metadata": {},
   "outputs": [],
   "source": []
  }
 ],
 "metadata": {
  "kernelspec": {
   "display_name": "Python 3",
   "language": "python",
   "name": "python3"
  },
  "language_info": {
   "codemirror_mode": {
    "name": "ipython",
    "version": 3
   },
   "file_extension": ".py",
   "mimetype": "text/x-python",
   "name": "python",
   "nbconvert_exporter": "python",
   "pygments_lexer": "ipython3",
   "version": "3.7.6"
  }
 },
 "nbformat": 4,
 "nbformat_minor": 4
}
