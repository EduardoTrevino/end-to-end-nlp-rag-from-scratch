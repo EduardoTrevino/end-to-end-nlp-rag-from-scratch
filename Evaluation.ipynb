{
 "cells": [
  {
   "cell_type": "code",
   "execution_count": 2,
   "metadata": {},
   "outputs": [],
   "source": [
    "from collections import Counter\n",
    "import numpy as np\n",
    "import re \n",
    "\n",
    "def normalize_answer(s):\n",
    "    # Lower case, remove punctuation, and whitespaces ### PLEASE CHECK If logic correct / desired ######## \n",
    "    return ' '.join(re.sub(r'[^A-Za-z0-9]', ' ', re.sub(r'\\b(a|an|the)\\b', ' ', s.lower())).split())\n",
    "\n",
    "def metrics(annotation_answers, rag_answers):\n",
    "    f1_scores, exact_matches, recall_scores = [], [], []\n",
    "    \n",
    "    for pred, truth in zip(annotation_answers, rag_answers):\n",
    "        pred_tokens, truth_tokens = normalize_answer(pred).split(), normalize_answer(truth).split()\n",
    "        common_tokens = Counter(pred_tokens) & Counter(truth_tokens)\n",
    "        num_common = sum(common_tokens.values())\n",
    "        \n",
    "        prec = (num_common / len(pred_tokens))\n",
    "        rec = (num_common / len(truth_tokens)) \n",
    "\n",
    "        f1_scores.append( 0 if prec+rec == 0 else (2*(prec*rec)/(prec + rec)))\n",
    "        exact_matches.append(int(pred_tokens == truth_tokens))\n",
    "        recall_scores.append(rec if truth_tokens else 0)\n",
    "    \n",
    "    return np.mean(f1_scores), np.mean(exact_matches), np.mean(recall_scores)"
   ]
  },
  {
   "cell_type": "code",
   "execution_count": 5,
   "metadata": {},
   "outputs": [],
   "source": [
    "#MODIFIED\n",
    "import numpy as np\n",
    "\n",
    "def metrics(annotation_answers, rag_answers):\n",
    "    f1_scores, exact_matches, recall_scores = [], [], []\n",
    "    \n",
    "    for pred, truth in zip(annotation_answers, rag_answers):\n",
    "        pred_tokens, truth_tokens = normalize_answer(pred).split(), normalize_answer(truth).split()\n",
    "\n",
    "        # Avoid division by zero by checking if pred_tokens or truth_tokens are empty\n",
    "        if len(pred_tokens) == 0 or len(truth_tokens) == 0:\n",
    "            prec = 0\n",
    "            rec = 0\n",
    "        else:\n",
    "            common_tokens = Counter(pred_tokens) & Counter(truth_tokens)\n",
    "            num_common = sum(common_tokens.values())\n",
    "            prec = (num_common / len(pred_tokens))\n",
    "            rec = (num_common / len(truth_tokens))\n",
    "\n",
    "        f1_scores.append(0 if prec + rec == 0 else (2 * (prec * rec) / (prec + rec)))\n",
    "        exact_matches.append(int(pred_tokens == truth_tokens))\n",
    "        recall_scores.append(rec if truth_tokens else 0)\n",
    "\n",
    "    return np.mean(f1_scores), np.mean(exact_matches), np.mean(recall_scores)\n"
   ]
  },
  {
   "cell_type": "code",
   "execution_count": 6,
   "metadata": {},
   "outputs": [
    {
     "data": {
      "text/plain": [
       "'\\nCitation: \\n    The use of chatgpt for the normalize answer and for using the counter function only\\n'"
      ]
     },
     "execution_count": 6,
     "metadata": {},
     "output_type": "execute_result"
    }
   ],
   "source": [
    "\"\"\"\n",
    "Citation: \n",
    "    The use of chatgpt for the normalize answer and for using the counter function only\n",
    "\"\"\""
   ]
  },
  {
   "cell_type": "code",
   "execution_count": 7,
   "metadata": {},
   "outputs": [],
   "source": [
    "def getFileData(filename):\n",
    "    f = open(filename, \"r\")\n",
    "    data = f.readlines()\n",
    "    f.close()\n",
    "    data = [i.strip() for i in data]\n",
    "    return data"
   ]
  },
  {
   "cell_type": "code",
   "execution_count": 28,
   "metadata": {},
   "outputs": [
    {
     "data": {
      "text/plain": [
       "(0.23105094889028244, 0.0, 0.17675869722203136)"
      ]
     },
     "execution_count": 28,
     "metadata": {},
     "output_type": "execute_result"
    }
   ],
   "source": [
    "# GPT4All Embeddings + Llama2\n",
    "\n",
    "refrence_answers = getFileData(\"SubmissionData/test/reference_answers.txt\")\n",
    "system_generated_answers = getFileData(\"SubmissionData/system_outputs/system_output_1.txt\")\n",
    "\n",
    "metrics(refrence_answers, system_generated_answers)"
   ]
  },
  {
   "cell_type": "code",
   "execution_count": 27,
   "metadata": {},
   "outputs": [
    {
     "data": {
      "text/plain": [
       "(0.3569133369324437, 0.0379746835443038, 0.33798993223464463)"
      ]
     },
     "execution_count": 27,
     "metadata": {},
     "output_type": "execute_result"
    }
   ],
   "source": [
    "# all-miniLM-l6-v2 embeddings + LLama2\n",
    "\n",
    "refrence_answers = getFileData(\"SubmissionData/test/reference_answers.txt\")\n",
    "system_generated_answers = getFileData(\"SubmissionData/system_outputs/system_output_2.txt\")\n",
    "\n",
    "metrics(refrence_answers, system_generated_answers)"
   ]
  },
  {
   "cell_type": "code",
   "execution_count": 9,
   "metadata": {},
   "outputs": [
    {
     "data": {
      "text/plain": [
       "(0.37367435697686446, 0.02531645569620253, 0.3185538110816663)"
      ]
     },
     "execution_count": 9,
     "metadata": {},
     "output_type": "execute_result"
    }
   ],
   "source": [
    "# mistral embeddings + LLama2\n",
    "\n",
    "refrence_answers = getFileData(\"SubmissionData/test/reference_answers.txt\")\n",
    "system_generated_answers = getFileData(\"SubmissionData/system_outputs/system_output_3.txt\")\n",
    "\n",
    "metrics(refrence_answers, system_generated_answers)"
   ]
  },
  {
   "cell_type": "code",
   "execution_count": 25,
   "metadata": {},
   "outputs": [
    {
     "data": {
      "text/plain": [
       "(0.04237111803781401, 0.0, 0.04669124425295719)"
      ]
     },
     "execution_count": 25,
     "metadata": {},
     "output_type": "execute_result"
    }
   ],
   "source": [
    "# all-miniLM-l6-v2 embeddings + Dragon Mistral\n",
    "\n",
    "refrence_answers = getFileData(\"SubmissionData/test/reference_answers.txt\")\n",
    "system_generated_answers = getFileData(\"SubmissionData/system_outputs/system_output_5.txt\")\n",
    "\n",
    "system_generated_answers = [i for i in system_generated_answers if i != \"\"]\n",
    "metrics(refrence_answers, system_generated_answers)"
   ]
  },
  {
   "cell_type": "code",
   "execution_count": 24,
   "metadata": {},
   "outputs": [
    {
     "data": {
      "text/plain": [
       "(0.03734369574591945, 0.0, 0.04852857655033772)"
      ]
     },
     "execution_count": 24,
     "metadata": {},
     "output_type": "execute_result"
    }
   ],
   "source": [
    "refrence_answers = getFileData(\"SubmissionData/test/reference_answers.txt\")\n",
    "system_generated_answers = getFileData(\"SubmissionData/system_outputs/miniLM_mistral.txt\")\n",
    "\n",
    "system_generated_answers = [i for i in system_generated_answers if i != \"\"]\n",
    "metrics(refrence_answers, system_generated_answers)"
   ]
  },
  {
   "cell_type": "code",
   "execution_count": 23,
   "metadata": {},
   "outputs": [
    {
     "data": {
      "text/plain": [
       "(0.4142937759054067, 0.05063291139240506, 0.3685443983028275)"
      ]
     },
     "execution_count": 23,
     "metadata": {},
     "output_type": "execute_result"
    }
   ],
   "source": [
    "refrence_answers = getFileData(\"SubmissionData/test/reference_answers.txt\")\n",
    "system_generated_answers = getFileData(\"SubmissionData/system_outputs/colbert.txt\")\n",
    "\n",
    "system_generated_answers = [i for i in system_generated_answers if i != \"\"]\n",
    "metrics(refrence_answers, system_generated_answers)"
   ]
  },
  {
   "cell_type": "code",
   "execution_count": 32,
   "metadata": {},
   "outputs": [
    {
     "data": {
      "text/plain": [
       "(0.3522762395816397, 0.06329113924050633, 0.3310342456998603)"
      ]
     },
     "execution_count": 32,
     "metadata": {},
     "output_type": "execute_result"
    }
   ],
   "source": [
    "refrence_answers = getFileData(\"SubmissionData/test/reference_answers.txt\")\n",
    "system_generated_answers = getFileData(\"SubmissionData/system_outputs/hybrid.txt\")\n",
    "\n",
    "system_generated_answers = [i for i in system_generated_answers if i != \"\"]\n",
    "metrics(refrence_answers, system_generated_answers)"
   ]
  },
  {
   "cell_type": "code",
   "execution_count": 37,
   "metadata": {},
   "outputs": [
    {
     "data": {
      "text/plain": [
       "(0.2881011370509792, 0.012658227848101266, 0.2710761187019919)"
      ]
     },
     "execution_count": 37,
     "metadata": {},
     "output_type": "execute_result"
    }
   ],
   "source": [
    "refrence_answers = getFileData(\"SubmissionData/test/reference_answers.txt\")\n",
    "system_generated_answers = getFileData(\"SubmissionData/system_outputs/rerank.txt\")\n",
    "\n",
    "system_generated_answers = [i for i in system_generated_answers if i != \"\"]\n",
    "metrics(refrence_answers, system_generated_answers)"
   ]
  },
  {
   "cell_type": "code",
   "execution_count": 8,
   "metadata": {},
   "outputs": [
    {
     "data": {
      "text/plain": [
       "(0.3097838381975181, 0.02531645569620253, 0.2442174549551543)"
      ]
     },
     "execution_count": 8,
     "metadata": {},
     "output_type": "execute_result"
    }
   ],
   "source": [
    "# Mistral embeddings\n",
    "\n",
    "refrence_answers = getFileData(\"SubmissionData/test/reference_answers.txt\")\n",
    "system_generated_answers = getFileData(\"SubmissionData/system_outputs/MistralEmbed.txt\")\n",
    "\n",
    "system_generated_answers = [i for i in system_generated_answers if i != \"\"]\n",
    "metrics(refrence_answers, system_generated_answers)"
   ]
  },
  {
   "cell_type": "code",
   "execution_count": 16,
   "metadata": {},
   "outputs": [
    {
     "data": {
      "text/plain": [
       "(0.2833292586347966, 0.02531645569620253, 0.25814614882449805)"
      ]
     },
     "execution_count": 16,
     "metadata": {},
     "output_type": "execute_result"
    }
   ],
   "source": [
    "# Reranking embeddings\n",
    "refrence_answers = getFileData(\"SubmissionData/test/reference_answers.txt\")\n",
    "system_generated_answers = getFileData(\"SubmissionData/system_outputs/rerank_system_out.txt\")\n",
    "\n",
    "system_generated_answers = [i for i in system_generated_answers if i != \"\"]\n",
    "metrics(refrence_answers, system_generated_answers)"
   ]
  },
  {
   "cell_type": "code",
   "execution_count": 19,
   "metadata": {},
   "outputs": [
    {
     "data": {
      "text/plain": [
       "(0.15575757065770926, 0.0, 0.13497957757571014)"
      ]
     },
     "execution_count": 19,
     "metadata": {},
     "output_type": "execute_result"
    }
   ],
   "source": [
    "# Mistral embeddings\n",
    "\n",
    "refrence_answers = getFileData(\"SubmissionData/test/reference_answers.txt\")\n",
    "system_generated_answers = getFileData(\"SubmissionData/system_outputs/MistralInstruct8x7.txt\")\n",
    "\n",
    "system_generated_answers = [i for i in system_generated_answers if i != \"\"]\n",
    "metrics(refrence_answers, system_generated_answers)"
   ]
  },
  {
   "cell_type": "code",
   "execution_count": 13,
   "metadata": {},
   "outputs": [],
   "source": [
    "def getFileTogether(filename):\n",
    "    # f = open(\"Systemfilename, \"r\")\n",
    "    # data = f.readlines()\n",
    "    # f.close()\n",
    "    # data = [i.strip() for i in data]\n",
    "    # return data\n",
    "\n",
    "    data = getFileData(\"SubmissionData/system_outputs/train_{}.txt\".format(filename))\n",
    "    data2 = getFileData(\"SubmissionData/system_outputs/test_{}.txt\".format(filename))\n",
    "\n",
    "    label = getFileData(\"SubmissionData/train/reference_answers.txt\")\n",
    "    label2 = getFileData(\"SubmissionData/test/reference_answers.txt\")\n",
    "\n",
    "    return data.extend(data2), label.extend(label2)"
   ]
  },
  {
   "cell_type": "code",
   "execution_count": 19,
   "metadata": {},
   "outputs": [
    {
     "data": {
      "text/plain": [
       "(0.37367435697686446, 0.02531645569620253, 0.3185538110816663)"
      ]
     },
     "execution_count": 19,
     "metadata": {},
     "output_type": "execute_result"
    }
   ],
   "source": [
    "answers, reference = getFileTogether(\"rerank\")\n",
    "metrics(refrence_answers, system_generated_answers)"
   ]
  },
  {
   "cell_type": "code",
   "execution_count": null,
   "metadata": {},
   "outputs": [],
   "source": []
  },
  {
   "cell_type": "code",
   "execution_count": null,
   "metadata": {},
   "outputs": [],
   "source": []
  }
 ],
 "metadata": {
  "kernelspec": {
   "display_name": "Python 3",
   "language": "python",
   "name": "python3"
  },
  "language_info": {
   "codemirror_mode": {
    "name": "ipython",
    "version": 3
   },
   "file_extension": ".py",
   "mimetype": "text/x-python",
   "name": "python",
   "nbconvert_exporter": "python",
   "pygments_lexer": "ipython3",
   "version": "3.9.6"
  }
 },
 "nbformat": 4,
 "nbformat_minor": 4
}
