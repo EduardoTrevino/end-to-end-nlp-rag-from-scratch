{
 "cells": [
  {
   "cell_type": "markdown",
   "metadata": {},
   "source": [
    "# Create index for Fine-tuned colbertv2"
   ]
  },
  {
   "cell_type": "code",
   "execution_count": null,
   "metadata": {},
   "outputs": [],
   "source": [
    "RAG = RAGPretrainedModel.from_pretrained(\".ragatouille/colbert/none/2024-03/16/18.58.52/checkpoints/colbert\")"
   ]
  },
  {
   "cell_type": "code",
   "execution_count": null,
   "metadata": {},
   "outputs": [],
   "source": [
    "import pickle\n",
    "\n",
    "# Replace 'your_file_path.pkl' with the path to your .pkl file\n",
    "file_path = 'final_data_splits.pkl'\n",
    "\n",
    "with open(file_path, 'rb') as file:\n",
    "    contents = pickle.load(file)\n",
    "\n",
    "# Extracting page_content from each document object\n",
    "docs_texts = []\n",
    "for sublist in contents:\n",
    "    for doc in sublist:  # Assuming each element in sublist is a document object\n",
    "        docs_texts.append(doc.page_content)"
   ]
  },
  {
   "cell_type": "code",
   "execution_count": null,
   "metadata": {},
   "outputs": [],
   "source": [
    "index_name = \"colbertv2.0_cmu_lti_finetunev2.0\"  # Choose an appropriate name for your index\n",
    "\n",
    "# Assuming RAG is your initialized RAGPretrainedModel with the loaded checkpoint\n",
    "index_path = RAG.index(\n",
    "    collection=collection,\n",
    "#     document_ids=document_ids,  # Include this only if you prepared document IDs\n",
    "    index_name=index_name,\n",
    "    overwrite_index=True,  # Set to True to overwrite existing index of the same name\n",
    "    max_document_length=256,  # Adjust based on your document length distribution\n",
    "    split_documents=True,  # Set to True if documents should be split into shorter segments\n",
    ")\n",
    "\n",
    "print(f\"Index created at: {index_path}\")"
   ]
  }
 ],
 "metadata": {
  "kernelspec": {
   "display_name": "nlp-rag",
   "language": "python",
   "name": "nlp-rag"
  },
  "language_info": {
   "codemirror_mode": {
    "name": "ipython",
    "version": 3
   },
   "file_extension": ".py",
   "mimetype": "text/x-python",
   "name": "python",
   "nbconvert_exporter": "python",
   "pygments_lexer": "ipython3",
   "version": "3.12.1"
  }
 },
 "nbformat": 4,
 "nbformat_minor": 4
}
