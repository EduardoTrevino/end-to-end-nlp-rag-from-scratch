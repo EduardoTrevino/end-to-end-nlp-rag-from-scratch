{
 "cells": [
  {
   "cell_type": "code",
   "execution_count": null,
   "metadata": {},
   "outputs": [],
   "source": [
    "import pickle as pkl\n",
    "\n",
    "with open('final_final.pkl','rb') as f:\n",
    "  all_splits = pkl.load(f)\n"
   ]
  },
  {
   "cell_type": "code",
   "execution_count": null,
   "metadata": {},
   "outputs": [],
   "source": [
    "for count, i in enumerate(all_splits):\n",
    "  print(count, i[0].metadata)\n",
    "\n",
    "groups2 = [[0], [11], [1,2,3,4,5,6,7,8,9,10]]\n",
    "groups1 = [[0,11], [1,2,3,4,5,6,7,8,9,10]]\n",
    "groups3 = [[0], [11], [1,2,6,10], [3,4,5,7,8,9]]\n"
   ]
  },
  {
   "cell_type": "code",
   "execution_count": null,
   "metadata": {},
   "outputs": [],
   "source": [
    "groups = [groups1,groups2,groups3]\n",
    "\n",
    "all_docs = [[] for _ in range(len(groups))]\n",
    "all_metadata = [[] for _ in range(len(groups))]\n",
    "\n",
    "for count, group in enumerate(groups):\n",
    "  group_docs = []\n",
    "  group_metadata = []\n",
    "  print(group)\n",
    "  for cluster in group:\n",
    "    clusterDocs = []\n",
    "    clusterMetaData =[]\n",
    "    print(cluster)\n",
    "    for index in cluster:\n",
    "      docs = all_splits[index]\n",
    "      for doc in docs:\n",
    "        clusterDocs.append(doc.page_content)\n",
    "        clusterMetaData.append(doc.metadata)\n",
    "    group_docs.append(clusterDocs)\n",
    "    group_metadata.append(clusterMetaData)\n",
    "    print(len(group_docs))\n",
    "  all_docs[count] = group_docs\n",
    "  print(len(all_docs[count]))\n",
    "  all_metadata[count] = group_metadata"
   ]
  },
  {
   "cell_type": "code",
   "execution_count": null,
   "metadata": {},
   "outputs": [],
   "source": [
    "\n",
    "for groupCount in range(len(all_docs)):\n",
    "    RAG = RAGPretrainedModel.from_pretrained(\"colbert-ir/colbertv2.0\")\n",
    "    for count, i in enumerate(all_docs[groupCount]):\n",
    "        RAG.index(\n",
    "            collection=i,\n",
    "            document_metadatas=all_metadata[groupCount][count],\n",
    "            index_name=\"GROUP{}_cluster{}\".format(groupCount+1, count),\n",
    "            max_document_length=500,\n",
    "            split_documents=False\n",
    "            )\n"
   ]
  }
 ],
 "metadata": {
  "language_info": {
   "name": "python"
  }
 },
 "nbformat": 4,
 "nbformat_minor": 2
}
