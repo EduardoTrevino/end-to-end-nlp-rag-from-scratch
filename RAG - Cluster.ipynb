{
 "cells": [
  {
   "cell_type": "code",
   "execution_count": null,
   "metadata": {},
   "outputs": [],
   "source": [
    "from langchain_core.retrievers import BaseRetriever, RetrieverLike, RetrieverOutputLike\n",
    "from langchain_core.language_models import BaseLLM\n",
    "from langchain_core.embeddings import Embeddings\n",
    "from langchain_core.callbacks import CallbackManagerForRetrieverRun\n",
    "from langchain_core.documents import Document\n",
    "from typing import List\n",
    "from ragatouille import RAGPretrainedModel\n",
    "\n"
   ]
  },
  {
   "cell_type": "code",
   "execution_count": null,
   "metadata": {},
   "outputs": [],
   "source": [
    "indexes = []\n",
    "GROUP_NUM = 10 # 1, 2, or 3\n",
    "NUM_CLUSTERS = 2\n",
    "\n",
    "\n",
    "for i in range(NUM_CLUSTERS):\n",
    "    path_to_index = \".ragatouille/colbert/indexes/GROUP{}_cluster{}\".format(GROUP_NUM, i)\n",
    "    RAG = RAGPretrainedModel.from_index(path_to_index)\n",
    "    indexes.append(RAG)"
   ]
  },
  {
   "cell_type": "code",
   "execution_count": null,
   "metadata": {},
   "outputs": [],
   "source": [
    "class CustomRetriever(BaseRetriever):\n",
    "  \n",
    "\n",
    "    \n",
    "    vectorstore : List[RetrieverLike]\n",
    "\n",
    "    def flatten_extend(self, matrix):\n",
    "        flat_list = []\n",
    "        for row in matrix:\n",
    "            flat_list.extend(row)\n",
    "        return flat_list\n",
    "\n",
    "    def _get_relevant_documents(self, query: str, *, run_manager: CallbackManagerForRetrieverRun) -> List[Document]:\n",
    "\n",
    "        all_docs = []\n",
    "        for i in self.vectorstore:\n",
    "            all_docs.append(i.get_relevant_documents(query, k=2))\n",
    "\n",
    "        all_docs = self.flatten_extend(all_docs)\n",
    "        return all_docs"
   ]
  },
  {
   "cell_type": "code",
   "execution_count": null,
   "metadata": {},
   "outputs": [],
   "source": [
    "customRetriever = CustomRetriever(vectorstore=indexes)\n"
   ]
  }
 ],
 "metadata": {
  "language_info": {
   "name": "python"
  }
 },
 "nbformat": 4,
 "nbformat_minor": 2
}
