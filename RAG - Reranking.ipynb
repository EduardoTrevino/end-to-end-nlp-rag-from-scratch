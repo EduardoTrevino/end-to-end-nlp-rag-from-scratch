{
 "cells": [
  {
   "cell_type": "code",
   "execution_count": 1,
   "metadata": {},
   "outputs": [
    {
     "name": "stderr",
     "output_type": "stream",
     "text": [
      "No sentence-transformers model found with name BAAI/bge-reranker-base. Creating a new one with MEAN pooling.\n",
      "Some weights of XLMRobertaModel were not initialized from the model checkpoint at BAAI/bge-reranker-base and are newly initialized: ['roberta.pooler.dense.bias', 'roberta.pooler.dense.weight']\n",
      "You should probably TRAIN this model on a down-stream task to be able to use it for predictions and inference.\n"
     ]
    }
   ],
   "source": [
    "from langchain_community.vectorstores import Chroma\n",
    "from langchain.embeddings import HuggingFaceEmbeddings\n",
    "from sentence_transformers import SentenceTransformer\n",
    "\n",
    "\n",
    "model_name = \"BAAI/llm-embedder\"\n",
    "model_kwargs = {\"device\": \"cpu\"}\n",
    "embeddings = HuggingFaceEmbeddings(model_name=model_name, model_kwargs=model_kwargs)\n",
    "\n",
    "vectorstore = Chroma(persist_directory=\"llm-embedder\", embedding_function=embeddings)\n",
    "model = SentenceTransformer('BAAI/bge-reranker-base')\n"
   ]
  },
  {
   "cell_type": "code",
   "execution_count": 2,
   "metadata": {},
   "outputs": [
    {
     "data": {
      "text/plain": [
       "[Document(page_content='Sweepstakes Slang\\n\\nBuggy: Vehicle being raced and also a nickname for the competition.\\n\\nChute: A section of the freeroll portion of the buggy course (near the southwestern end of Frew Street at its intersection with Schenley Drive) where buggies make the sharp righthand turn from Schenley Drive onto Frew Street.\\n\\nChute Flagger: Team member who provides a signal for buggy drivers to know when to start the right-hand turn from Schenley Drive onto Frew Street.', metadata={'source': 'Data/Buggy News/01.txt'}),\n",
       " Document(page_content=\"Driver: Person who travels with a buggy and controls the vehicles via steering and braking systems.\\n\\nPushbar: Structure attached to a buggy that a person pushes to propel that buggy forward.\\n\\nPusher: Person who propels a buggy via a pushbar along one of the five hills of the buggy course.\\n\\nShell: Entire outer structure or covering of a buggy that determines that buggy's aerodynamic characteristics.\", metadata={'source': 'Data/Buggy News/01.txt'}),\n",
       " Document(page_content='April 10, 2019\\n\\nBuggy Races Keep Rolling at Carnegie Mellon\\n\\nIn its 99th year, the tradition is a Spring Carnival treat\\n\\nBy Heidi Opdyke\\n\\nSweepstakes, also known as the Buggy Races, has come a long way at Carnegie Mellon University. The slick, torpedo-like vessels carrying drivers with nerves of steel are a far cry from the two-man teams that once changed places halfway through a race and rode in everything from rain barrels with bicycle wheels to three-wheeled ash cans 99 years ago.', metadata={'source': 'Data/Buggy News/02.txt'}),\n",
       " Document(page_content='The Machine\\n\\nThe basics of a buggy are straightforward, but teams are often secretive in how they build the machines, in particular the way they brake, steer and what types of wheels are used.\\n\\nEach has a body, pushbar for runners to move the machine up the hills, wheels, a safety harness and driving and braking mechanisms. Some also include fairings, a type of housing around the wheels that help reduce drag, make the vehicle quieter and just looks cool.', metadata={'source': 'Data/Buggy News/03.txt'})]"
      ]
     },
     "execution_count": 2,
     "metadata": {},
     "output_type": "execute_result"
    }
   ],
   "source": [
    "vectorstore.similarity_search(\"what is buggy?\")"
   ]
  },
  {
   "cell_type": "code",
   "execution_count": 15,
   "metadata": {},
   "outputs": [],
   "source": [
    "from langchain_core.retrievers import BaseRetriever, RetrieverLike, RetrieverOutputLike\n",
    "from langchain_core.language_models import BaseLLM\n",
    "from langchain_core.embeddings import Embeddings\n",
    "from langchain_core.callbacks import CallbackManagerForRetrieverRun\n",
    "from langchain_core.documents import Document\n",
    "from typing import List\n",
    "\n",
    "\n",
    "\n",
    "class CustomRetriever(BaseRetriever):\n",
    "  \n",
    "\n",
    "    # vectorstore = Chroma(persist_directory=\"llm-embedder\", embedding_function=embeddings)\n",
    "    # model = SentenceTransformer('BAAI/bge-reranker-base')\n",
    "\n",
    "    vectorstore : RetrieverLike\n",
    "\n",
    "    model : SentenceTransformer\n",
    "\n",
    "    def _get_relevant_documents(self, query: str, *, run_manager: CallbackManagerForRetrieverRun) -> List[Document]:\n",
    "\n",
    "        docs = self.vectorstore.get_relevant_documents(query, k=10)\n",
    "\n",
    "        queries = [query]\n",
    "        sentences = []\n",
    "        for i in docs:\n",
    "            sentences.append(i.page_content)\n",
    "\n",
    "        embeddings_1 = self.model.encode(sentences, normalize_embeddings=True)\n",
    "        embeddings_2 = self.model.encode(queries, normalize_embeddings=True)\n",
    "        similarity = embeddings_1 @ embeddings_2.T\n",
    "\n",
    "        sim = [i[0] for i in similarity]\n",
    "\n",
    "        return [x for _, x in sorted(zip(sim, docs), reverse=True)][0:4]\n",
    "\n",
    "\n",
    "\n",
    "    # return [Document(page_content=query)]\n"
   ]
  },
  {
   "cell_type": "code",
   "execution_count": 16,
   "metadata": {},
   "outputs": [],
   "source": [
    "custom = CustomRetriever(vectorstore=vectorstore.as_retriever(), model=model)"
   ]
  },
  {
   "cell_type": "code",
   "execution_count": 17,
   "metadata": {},
   "outputs": [
    {
     "data": {
      "text/plain": [
       "[Document(page_content='Sweepstakes Slang\\n\\nBuggy: Vehicle being raced and also a nickname for the competition.\\n\\nChute: A section of the freeroll portion of the buggy course (near the southwestern end of Frew Street at its intersection with Schenley Drive) where buggies make the sharp righthand turn from Schenley Drive onto Frew Street.\\n\\nChute Flagger: Team member who provides a signal for buggy drivers to know when to start the right-hand turn from Schenley Drive onto Frew Street.', metadata={'source': 'Data/Buggy News/01.txt'}),\n",
       " Document(page_content='The Machine\\n\\nThe basics of a buggy are straightforward, but teams are often secretive in how they build the machines, in particular the way they brake, steer and what types of wheels are used.\\n\\nEach has a body, pushbar for runners to move the machine up the hills, wheels, a safety harness and driving and braking mechanisms. Some also include fairings, a type of housing around the wheels that help reduce drag, make the vehicle quieter and just looks cool.', metadata={'source': 'Data/Buggy News/03.txt'}),\n",
       " Document(page_content=\"Driver: Person who travels with a buggy and controls the vehicles via steering and braking systems.\\n\\nPushbar: Structure attached to a buggy that a person pushes to propel that buggy forward.\\n\\nPusher: Person who propels a buggy via a pushbar along one of the five hills of the buggy course.\\n\\nShell: Entire outer structure or covering of a buggy that determines that buggy's aerodynamic characteristics.\", metadata={'source': 'Data/Buggy News/01.txt'}),\n",
       " Document(page_content='April 10, 2019\\n\\nBuggy Races Keep Rolling at Carnegie Mellon\\n\\nIn its 99th year, the tradition is a Spring Carnival treat\\n\\nBy Heidi Opdyke\\n\\nSweepstakes, also known as the Buggy Races, has come a long way at Carnegie Mellon University. The slick, torpedo-like vessels carrying drivers with nerves of steel are a far cry from the two-man teams that once changed places halfway through a race and rode in everything from rain barrels with bicycle wheels to three-wheeled ash cans 99 years ago.', metadata={'source': 'Data/Buggy News/02.txt'})]"
      ]
     },
     "execution_count": 17,
     "metadata": {},
     "output_type": "execute_result"
    }
   ],
   "source": [
    "custom.get_relevant_documents(\"What is buggy?\")"
   ]
  },
  {
   "cell_type": "code",
   "execution_count": null,
   "metadata": {},
   "outputs": [],
   "source": []
  }
 ],
 "metadata": {
  "kernelspec": {
   "display_name": "base",
   "language": "python",
   "name": "python3"
  },
  "language_info": {
   "codemirror_mode": {
    "name": "ipython",
    "version": 3
   },
   "file_extension": ".py",
   "mimetype": "text/x-python",
   "name": "python",
   "nbconvert_exporter": "python",
   "pygments_lexer": "ipython3",
   "version": "3.11.8"
  }
 },
 "nbformat": 4,
 "nbformat_minor": 2
}
