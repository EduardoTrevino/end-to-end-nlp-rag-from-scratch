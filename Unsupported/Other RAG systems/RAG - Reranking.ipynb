{
 "cells": [
  {
   "cell_type": "code",
   "execution_count": 4,
   "metadata": {},
   "outputs": [
    {
     "name": "stderr",
     "output_type": "stream",
     "text": [
      "No sentence-transformers model found with name BAAI/bge-reranker-base. Creating a new one with MEAN pooling.\n",
      "Some weights of XLMRobertaModel were not initialized from the model checkpoint at BAAI/bge-reranker-base and are newly initialized: ['roberta.pooler.dense.bias', 'roberta.pooler.dense.weight']\n",
      "You should probably TRAIN this model on a down-stream task to be able to use it for predictions and inference.\n"
     ]
    }
   ],
   "source": [
    "from langchain_community.vectorstores import Chroma\n",
    "from langchain.embeddings import HuggingFaceEmbeddings\n",
    "from sentence_transformers import SentenceTransformer\n",
    "\n",
    "\n",
    "model_name = \"BAAI/llm-embedder\"\n",
    "model_kwargs = {\"device\": \"cpu\"}\n",
    "embeddings = HuggingFaceEmbeddings(model_name=model_name, model_kwargs=model_kwargs)\n",
    "\n",
    "vectorstore = Chroma(persist_directory=\"llm-embedder\", embedding_function=embeddings)\n",
    "model = SentenceTransformer('BAAI/bge-reranker-base')\n"
   ]
  },
  {
   "cell_type": "code",
   "execution_count": 13,
   "metadata": {},
   "outputs": [
    {
     "name": "stdout",
     "output_type": "stream",
     "text": [
      "information technology, software services and social media companies. Requirements: The MCDS program offers three majors: Systems, Analytics, and Human-Centered Data Science. All three require the same total number of course credits, split among required core courses, electives, data science seminar and capstone courses specifically defined for each major. The degree can also be earned in two different ways, depending on the length of time you spend working on it.\n",
      "The MCDS Program offers a core curriculum and several concentrations; students entering the program enroll in core courses in their first semester and select further courses to satisfy at least one concentration (see Section 3.3.6). Students construct their own course of study, in consultation with their academic advisor, in order to satisfy broad guidelines. Thus, a student may tailor their coursework in a given concentration to follow a particular area of emphasis. The MCDS program is\n",
      "3.3.6.3 Areas of Concentration In addition to the common MCDS core, all students must complete at least one area of concentration, which consists of three courses in Analytics, Systems, or Human- Centered Data Science. Students consult with their academic advisor and choose one or more areas of concentration during their first semester, in preparation for enrolling in Spring classes.\n",
      "of this handbook. 1.1 The MCDS Degree The MCDS Degree The Master of Computational Data Science (MCDS) degree is a professional Master of Science degree offered by the Language Technologies Institute (LTI), a department in the School of Computer Science at Carnegie Mellon University. The MCDS degree offers students with a Bachelor's degree the opportunity to improve their training with advanced study in Computer Science and Machine Learning. We cater to students with basic analytic skills and a\n",
      "Analytics concentration: o One (1) Machine Learning course o One (1) Software Systems course o One (1) big data course\n",
      "\n",
      "Systems concentration: o 15\n",
      "\n",
      "513 Introduction to Computer Systems (elective, prerequisite for many advanced Systems courses) o Three (3) systems project courses\n",
      "\n",
      "Human\n",
      "\n",
      "Centered Data Science concentration: o One (1) Methods course o Two (2) HCI courses 16 A detailed list of courses satisfying each concentration is contained in the MCDS Program FAQ.\n",
      "3.3.6.4 MCDS Capstone Courses All MCDS students complete three Capstone courses:  11-634 - Capstone Planning Seminar (12 units)  11-635 - Capstone Research (12 units)  11-632 - Data Science Capstone (12 units)\n",
      "\n",
      "MCDS Program Learning Outcomes\n",
      "\n",
      "Design, implement and evaluate the use of analytic algorithms on sample datasets.\n",
      "\n",
      "Explain how a machine\n",
      "\n",
      "learning model is developed for and evaluated on real world datasets.\n",
      "3.3.6.2 Common MCDS Core Courses All MCDS students are required to complete four common core courses in their first two semesters:  10-601 - Machine Learning  15-619 - Cloud Computing  05-839 - Interactive Data Science  11-631 - Data Science Seminar\n",
      "year of fall and spring study. Each semester comprises a minimum of 36 units. Students graduate in May. For a complete overview of the MCDS requirements, visit the MCDS website or read the MCDS Handbook. Curriculum: To earn an MCDS degree, student must pass courses in the core curriculum, the MCDS seminar, a concentration area and electives. Students must also complete a capstone project in which they work on a research project at CMU or on an industry-sponsored project. In total, students must\n",
      "typically a 16-month program consisting of courses, seminars, a required Capstone Project and a required summer internship or practical training. While some MCDS graduates continue on to PhD programs in the LTI or other leading universities, most graduates go on to jobs in 7corporate research and development laboratories.\n",
      "completing courses in the core curriculum, the MCDS seminar, electives and capstone project.  The capstone project consists of students working at CMU on a research project, or on an industry-sponsored project.  The student must complete 144 eligible units of study. This includes eight core and concentration courses, two 12-unit seminar courses and two 12-unit capstone courses. All students complete a common MCDS core in their first two semesters, consisting of five courses. All students must\n"
     ]
    }
   ],
   "source": [
    "for i in vectorstore.similarity_search(\"What are the majors offered in the MCDS program?\", k=10):\n",
    "    print(i.page_content)"
   ]
  },
  {
   "cell_type": "code",
   "execution_count": null,
   "metadata": {},
   "outputs": [],
   "source": []
  },
  {
   "cell_type": "code",
   "execution_count": 5,
   "metadata": {},
   "outputs": [],
   "source": [
    "from langchain_core.retrievers import BaseRetriever, RetrieverLike, RetrieverOutputLike\n",
    "from langchain_core.language_models import BaseLLM\n",
    "from langchain_core.embeddings import Embeddings\n",
    "from langchain_core.callbacks import CallbackManagerForRetrieverRun\n",
    "from langchain_core.documents import Document\n",
    "from typing import List\n",
    "\n",
    "\n",
    "\n",
    "class CustomRetriever(BaseRetriever):\n",
    "  \n",
    "\n",
    "    # vectorstore = Chroma(persist_directory=\"llm-embedder\", embedding_function=embeddings)\n",
    "    # model = SentenceTransformer('BAAI/bge-reranker-base')\n",
    "\n",
    "    vectorstore : RetrieverLike\n",
    "\n",
    "    model : SentenceTransformer\n",
    "\n",
    "    def _get_relevant_documents(self, query: str, *, run_manager: CallbackManagerForRetrieverRun) -> List[Document]:\n",
    "\n",
    "        docs = self.vectorstore.get_relevant_documents(query, k=10)\n",
    "\n",
    "        queries = [query]\n",
    "        sentences = []\n",
    "        for i in docs:\n",
    "            sentences.append(i.page_content)\n",
    "\n",
    "        embeddings_1 = self.model.encode(sentences, normalize_embeddings=True)\n",
    "        embeddings_2 = self.model.encode(queries, normalize_embeddings=True)\n",
    "        similarity = embeddings_1 @ embeddings_2.T\n",
    "\n",
    "        sim = [i[0] for i in similarity]\n",
    "\n",
    "        return [x for _, x in sorted(zip(sim, docs), reverse=True)][0:4]\n",
    "\n",
    "\n",
    "\n",
    "    # return [Document(page_content=query)]\n"
   ]
  },
  {
   "cell_type": "code",
   "execution_count": 6,
   "metadata": {},
   "outputs": [],
   "source": [
    "custom = CustomRetriever(vectorstore=vectorstore.as_retriever(), model=model)"
   ]
  },
  {
   "cell_type": "code",
   "execution_count": 11,
   "metadata": {},
   "outputs": [
    {
     "data": {
      "text/plain": [
       "[Document(page_content='Q: what is the young boy riding in the empty parking lotA: Baseline: bikeSPAE: skateboardQ: how many different wines are lined up in glasses on an outdoor tableA: SPAE: 5Q: what bear walking through tall grass A: Baseline: siberianSPAE: grizzlyQ: how many computer screens are displayed with one imageA: SPAE: 3Figure5.Qualitativesamplesofimage-to-textgeneration:imagecaptioningandVQA.WecomparebetweendifferentlayersofSPAE(L1-L6)andabaselinemodelwithoutsemanticguidanceorpyramidSAQ.', metadata={'source': 'Web Scholar PDFs/376f494126d1ea4f571ea0263c43ac2b6331800a.pdf'}),\n",
       " Document(page_content='Act : move forward Obs : 1 steps in front of you and 3 steps to the right there is a\\n\\nclosed blue lockablebox', metadata={'source': 'Web Scholar PDFs/8ba93052c60a266b31e121fd06e8ce9cbd9b1bc0.pdf'}),\n",
       " Document(page_content='Kovač, Portelas, Dominey, & Oudeyer\\n\\nNew episode. Obs : 1 steps in front of you and 1 steps to the left there is a\\n\\nNew episode. Obs : 2 steps in front of you and 3 steps to the right there is a\\n\\nclosed green lockablebox\\n\\nclosed blue lockablebox', metadata={'source': 'Web Scholar PDFs/8ba93052c60a266b31e121fd06e8ce9cbd9b1bc0.pdf'}),\n",
       " Document(page_content='The SocialAI School\\n\\nNew episode. Obs : 1 steps in front of you and 2 steps to the left there is a\\n\\nclosed brown lockablebox\\n\\nCaretaker says: blue Act : turn left Obs : 3 steps in front of you and 3 steps to the left there is a\\n\\ncaretaker\\n\\n1 steps in front of you and 1 steps to the left there is a closed', metadata={'source': 'Web Scholar PDFs/8ba93052c60a266b31e121fd06e8ce9cbd9b1bc0.pdf'})]"
      ]
     },
     "execution_count": 11,
     "metadata": {},
     "output_type": "execute_result"
    }
   ],
   "source": [
    "custom.get_relevant_documents(\"How many people does it take to navigate the current Buggy Race course?\")"
   ]
  },
  {
   "cell_type": "code",
   "execution_count": null,
   "metadata": {},
   "outputs": [],
   "source": []
  }
 ],
 "metadata": {
  "kernelspec": {
   "display_name": "base",
   "language": "python",
   "name": "python3"
  },
  "language_info": {
   "codemirror_mode": {
    "name": "ipython",
    "version": 3
   },
   "file_extension": ".py",
   "mimetype": "text/x-python",
   "name": "python",
   "nbconvert_exporter": "python",
   "pygments_lexer": "ipython3",
   "version": "3.11.8"
  }
 },
 "nbformat": 4,
 "nbformat_minor": 2
}
