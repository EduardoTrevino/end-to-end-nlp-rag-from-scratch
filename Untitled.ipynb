{
 "cells": [
  {
   "cell_type": "markdown",
   "metadata": {},
   "source": [
    "# Zipping embeddings to upload in google drive"
   ]
  },
  {
   "cell_type": "code",
   "execution_count": 1,
   "metadata": {},
   "outputs": [
    {
     "name": "stdout",
     "output_type": "stream",
     "text": [
      "Directory 'sfr-mistralDB' has been zipped into 'sfr-mistralDB.zip'\n"
     ]
    }
   ],
   "source": [
    "import shutil\n",
    "\n",
    "# Define the directory to be zipped and the output file name\n",
    "directory_to_zip = 'sfr-mistralDB'\n",
    "output_zip_file = 'sfr-mistralDB.zip'\n",
    "\n",
    "# Create a zip file of the entire directory\n",
    "shutil.make_archive(output_zip_file.replace('.zip', ''), 'zip', directory_to_zip)\n",
    "\n",
    "print(f\"Directory '{directory_to_zip}' has been zipped into '{output_zip_file}'\")"
   ]
  }
 ],
 "metadata": {
  "kernelspec": {
   "display_name": "nlp-rag",
   "language": "python",
   "name": "nlp-rag"
  },
  "language_info": {
   "codemirror_mode": {
    "name": "ipython",
    "version": 3
   },
   "file_extension": ".py",
   "mimetype": "text/x-python",
   "name": "python",
   "nbconvert_exporter": "python",
   "pygments_lexer": "ipython3",
   "version": "3.12.1"
  }
 },
 "nbformat": 4,
 "nbformat_minor": 4
}
