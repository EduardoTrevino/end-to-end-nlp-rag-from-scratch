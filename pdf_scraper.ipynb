{
 "cells": [
  {
   "cell_type": "code",
   "execution_count": 1,
   "metadata": {},
   "outputs": [],
   "source": [
    "import pickle as pkl\n",
    "\n",
    "with open(r\"webscholar_lti_dict.pkl\", \"rb\") as input_file:\n",
    "    data = pkl.load(input_file)"
   ]
  },
  {
   "cell_type": "code",
   "execution_count": 2,
   "metadata": {},
   "outputs": [],
   "source": [
    "papers = {}\n",
    "for i in data:\n",
    "    for j in data[i]:\n",
    "        if data[i][j][\"paperId\"] not in papers:\n",
    "            papers[data[i][j][\"paperId\"]] = j"
   ]
  },
  {
   "cell_type": "code",
   "execution_count": 3,
   "metadata": {},
   "outputs": [
    {
     "name": "stdout",
     "output_type": "stream",
     "text": [
      "HTTP Error 418: Unknown Code\n",
      "4c0642c9cb358cfbe40944e788a8b44d37ec4347\n",
      "HTTP Error 403: Forbidden\n",
      "76889dfc6c046eba83c2d64fae9d9a3bd5f0f89a\n",
      "HTTP Error 406: Not Acceptable\n",
      "a57c6a779f5fccd725cf91fc0ba6a7c06b21d01e\n",
      "HTTP Error 403: Forbidden\n",
      "197d5fbc3764ff18186275545d0764d5b1c7659b\n",
      "HTTP Error 403: Forbidden\n",
      "6b7eefa15c0a461afeab4fa13cf862c5340fdc2a\n",
      "HTTP Error 403: Forbidden\n",
      "1e0a4ff0c5d2d850ff5907e310ffcedc9cad9718\n",
      "HTTP Error 403: Forbidden\n",
      "58d158669b2524e5aa53d479cc59eae336e76dee\n",
      "HTTP Error 403: Forbidden\n",
      "4c7c12fd12c436e3cfaa55b55bad4f0845b11f97\n",
      "HTTP Error 403: Forbidden\n",
      "e0b15217bc69aa0c06cfdade44d659570ebf774b\n",
      "HTTP Error 403: Forbidden\n",
      "fad620bb0aa507f0a61bdf0e0496fe2e8a017aa4\n",
      "HTTP Error 403: Forbidden\n",
      "5785a501db1794f6e1d8357beac47a3980ba83d3\n",
      "HTTP Error 403: Forbidden\n",
      "92e4343ba8ae7d5eeddf1e843cb5d9dfb4fddfe6\n",
      "HTTP Error 418: Unknown Code\n",
      "9e7a48976681a12f95a216bb66a38324983c0805\n",
      "HTTP Error 418: Unknown Code\n",
      "279440b92d286b59fc766df97acdbb5ff7bc7973\n",
      "HTTP Error 418: Unknown Code\n",
      "5eb2aaf2cf512d1ec62c10532af99c9023a0a274\n",
      "HTTP Error 418: Unknown Code\n",
      "d50ccaa32b7be237c164717784cc0f77760d2cd3\n",
      "HTTP Error 403: Forbidden\n",
      "8e9627e767e4b16c63b2b94b7f4915e4b3388ab1\n",
      "HTTP Error 403: Forbidden\n",
      "6552a7749960077f82a48604a802a6331deb78b9\n",
      "HTTP Error 403: Forbidden\n",
      "d38d7b790af907336bac640f0ae6a6fdd189199d\n",
      "HTTP Error 403: Forbidden\n",
      "97dc707f7d3e13ee0a35db0670bb8997654f22e3\n",
      "HTTP Error 403: Forbidden\n",
      "838d296e1933bc8ed38eab5cfee7555bed957281\n",
      "HTTP Error 403: Forbidden\n",
      "bd94ea913fcf8698f2257f87a17755b46a420458\n",
      "HTTP Error 403: Forbidden\n",
      "8d53c510928ad1164aebea4d9477812ed1893be2\n",
      "HTTP Error 403: Forbidden\n",
      "64703e760f662b1c0f647931bb63fe57e5ba91e4\n",
      "HTTP Error 403: Forbidden\n",
      "90b09bdb1bd78875ee8d8d324a568a36955e4765\n",
      "HTTP Error 403: Forbidden\n",
      "8f73cebf4c078b58ad473ad36d3e1ea8dc8f583a\n",
      "HTTP Error 403: Forbidden\n",
      "e3da12c61fd66f37a6096134e8e5cf124a2a7dc4\n",
      "HTTP Error 403: Forbidden\n",
      "06dc7b3d8cbc40fb4e39b42de1bc664deaacca74\n",
      "HTTP Error 403: Forbidden\n",
      "5dcdb4af96d7129b0c3b7077cca9a2ce4c28c937\n",
      "HTTP Error 403: Forbidden\n",
      "084948afee7031deddecb4add0f88222b01e1bec\n",
      "HTTP Error 403: Forbidden\n",
      "87e66ec80044d9e748bd89cbfe3f5c5baef9cc07\n",
      "HTTP Error 403: Forbidden\n",
      "f743324682d5d50db9b114fa60b908f09c10c9a0\n",
      "HTTP Error 404: Not Found\n",
      "f1047169216b65560d024802f175518882049fe0\n",
      "HTTP Error 403: Forbidden\n",
      "eb7e846c9a03af77c334f1b766a39f4cd9bc2b93\n",
      "HTTP Error 418: Unknown Code\n",
      "75e12a0e5a1e15ba07cb5f4ccc432c26b0533339\n",
      "HTTP Error 403: Forbidden\n",
      "af6eb5d6531e0ccc12c8186bde3ed1b432615f4b\n",
      "HTTP Error 403: Forbidden\n",
      "bf739d195fd17ab217b1c502d064f6bf3d563dfd\n",
      "HTTP Error 403: Forbidden\n",
      "99bace5ceb1a9197c6be95da5ccf988b75e6c3e4\n",
      "HTTP Error 403: Forbidden\n",
      "721b39472c801124b5e3102edffe9d6f0754e1c2\n",
      "HTTP Error 403: Forbidden\n",
      "63a4150c9ad87c003de43b32828c8ceec6bb4468\n",
      "HTTP Error 403: Forbidden\n",
      "0bcbf90570ac8b9d39ac4529ea256ca2ce9ae5b0\n",
      "HTTP Error 418: Unknown Code\n",
      "e25f6a60211aa74ecfde8001a5939ff206102de4\n",
      "HTTP Error 418: Unknown Code\n",
      "c90c9304807e389f0db35bf1fb85509b18b4194d\n",
      "HTTP Error 418: Unknown Code\n",
      "1c67ea0c2bb125f9b890e87ae981e0b7da0cbed8\n",
      "HTTP Error 403: Forbidden\n",
      "1fe3a802efdc4f1a3e5c8187547f38a3ec65750b\n",
      "HTTP Error 403: Forbidden\n",
      "cdfd0926ad26c3c95a02db2ae891b7d4a457429c\n",
      "HTTP Error 403: Forbidden\n",
      "105759bdb5e3bddc1d3244df2eff2d5c997a1d84\n"
     ]
    }
   ],
   "source": [
    "from urllib.request import urlretrieve\n",
    "\n",
    "\n",
    "def download_file(download_url, name):\n",
    "    try:\n",
    "        urlretrieve(download_url, \"Web Scholar PDFs/{}.pdf\".format(name))\n",
    "    except Exception as e:\n",
    "        print(e)\n",
    "        print(name)\n",
    "\n",
    "\n",
    "\n",
    "for i in papers:\n",
    "    download_file(papers[i], i)"
   ]
  },
  {
   "cell_type": "code",
   "execution_count": null,
   "metadata": {},
   "outputs": [],
   "source": [
    "from sys import implementation\n",
    "from pypdf import PdfReader\n",
    "import os\n",
    "from tqdm import tqdm\n",
    "\n",
    "\n",
    "files = os.listdir(\"Web Scholar PDFs/\")\n",
    "\n",
    "failed_reads = []\n",
    "for count in tqdm(range(len(files))):\n",
    "    i = files[count]\n",
    "    f = open(\"Web Scholar/{}.txt\".format(i[:-4]), \"w\")\n",
    "\n",
    "    try:\n",
    "        reader = PdfReader(\"Web Scholar/{}\".format(i))\n",
    "        for page in reader.pages:\n",
    "            text=  page.extract_text()\n",
    "            f.write(text)\n",
    "    except Exception as e:\n",
    "        print(e)\n",
    "        failed_reads.append(i[:-4])\n",
    "    \n",
    "    f.close()"
   ]
  },
  {
   "cell_type": "code",
   "execution_count": 41,
   "metadata": {},
   "outputs": [
    {
     "data": {
      "text/plain": [
       "[{'authorId': '2149163534', 'name': 'Shuyan Zhou'},\n",
       " {'authorId': '40027632', 'name': 'Frank F. Xu'},\n",
       " {'authorId': '2115313911', 'name': 'Hao Zhu'},\n",
       " {'authorId': '144101734', 'name': 'Xuhui Zhou'},\n",
       " {'authorId': '145250604', 'name': 'Robert Lo'},\n",
       " {'authorId': '66820957', 'name': 'Abishek Sridhar'},\n",
       " {'authorId': '144691454', 'name': 'Xianyi Cheng'},\n",
       " {'authorId': '3312309', 'name': 'Yonatan Bisk'},\n",
       " {'authorId': '47070750', 'name': 'Daniel Fried'},\n",
       " {'authorId': '47051926', 'name': 'Uri Alon'},\n",
       " {'authorId': '1700325', 'name': 'Graham Neubig'}]"
      ]
     },
     "execution_count": 41,
     "metadata": {},
     "output_type": "execute_result"
    }
   ],
   "source": [
    "data[\"Yonatan Bisk\"][\"https://arxiv.org/pdf/2307.13854\"][\"authors\"]"
   ]
  },
  {
   "cell_type": "code",
   "execution_count": 43,
   "metadata": {},
   "outputs": [],
   "source": [
    "f = open(\"Web Scholar PDFs/metadata.txt\", \"w\")\n",
    "\n",
    "papers = {}\n",
    "for i in data:\n",
    "    for j in data[i]:\n",
    "        if data[i][j][\"paperId\"] not in papers:\n",
    "            paper_title = data[i][j][\"title\"]\n",
    "            paper_publicationVenue = data[i][j][\"publicationVenue\"]\n",
    "            paper_year = data[i][j][\"year\"]\n",
    "            paper_tldr = data[i][j][\"tldr\"]\n",
    "            paper_authors = [i[\"name\"] for i in data[i][j][\"authors\"]]\n",
    "            paper_authors.append(i)\n",
    "            paper_authors = set(paper_authors)\n",
    "            paper_authors = \", \".join(paper_authors)\n",
    "            papers[data[i][j][\"paperId\"]] = {\"title\": data[i][j][\"title\"], \n",
    "                                             \"venue\": paper_publicationVenue,\n",
    "                                             \"year\": paper_year,\n",
    "                                             \"tldr\": paper_tldr,\n",
    "                                             \"authors\": paper_authors}\n",
    "\n",
    "\n",
    "\n",
    "\n",
    "\n",
    "for k in papers:\n",
    "        \n",
    "    i = papers[k]\n",
    "    f.write(\"Paper title: '{}'\\n\".format(i[\"title\"]))\n",
    "    f.write(\"Published year: {}\\n\".format(i[\"year\"]))\n",
    "    f.write(\"Publication venue: {}\\n\".format(i[\"venue\"]))\n",
    "    f.write(\"Authors: {}\\n\".format(i[\"authors\"]))\n",
    "    f.write(\"Summary: {}\\n\\n\".format(i[\"tldr\"]))\n",
    "\n",
    "f.close()\n",
    "\n",
    "\n"
   ]
  },
  {
   "cell_type": "code",
   "execution_count": 30,
   "metadata": {},
   "outputs": [
    {
     "data": {
      "text/plain": [
       "[{'authorId': '2235704', 'name': 'Jianwu Lin'},\n",
       " {'authorId': '2185831328', 'name': 'Dianzhi Yu'},\n",
       " {'authorId': '2172221516', 'name': 'Renyong Pan'},\n",
       " {'authorId': '2115670843', 'name': 'Jitong Cai'},\n",
       " {'authorId': '2145471967', 'name': 'Jiaming Liu'},\n",
       " {'authorId': '2206024733', 'name': 'Licai Zhang'},\n",
       " {'authorId': '2207460828', 'name': 'Xingtian Wen'},\n",
       " {'authorId': '2152488633', 'name': 'Xishun Peng'},\n",
       " {'authorId': '5701939', 'name': 'T. Cernava'},\n",
       " {'authorId': '14043991', 'name': 'Safa Oufensou'},\n",
       " {'authorId': '4170509', 'name': 'Q. Migheli'},\n",
       " {'authorId': '6985645', 'name': 'Xiaoyulong Chen'},\n",
       " {'authorId': '2161347217', 'name': 'Xin Zhang'}]"
      ]
     },
     "execution_count": 30,
     "metadata": {},
     "output_type": "execute_result"
    }
   ],
   "source": [
    "data[\"Ralf Brown\"]['https://www.frontiersin.org/articles/10.3389/fpls.2023.1135105/pdf'][\"authors\"]"
   ]
  },
  {
   "cell_type": "code",
   "execution_count": 35,
   "metadata": {},
   "outputs": [],
   "source": [
    "\n",
    "names = {}\n",
    "for i in papers:\n",
    "    p = papers[i]\n",
    "    if p[\"title\"] not in names:\n",
    "        names[p[\"title\"]] = 1\n",
    "    else:\n",
    "        names[p[\"title\"]] += 1"
   ]
  },
  {
   "cell_type": "code",
   "execution_count": 37,
   "metadata": {},
   "outputs": [],
   "source": [
    "for i in names:\n",
    "    if names[i] > 1:\n",
    "        print(names[i])"
   ]
  },
  {
   "cell_type": "code",
   "execution_count": null,
   "metadata": {},
   "outputs": [],
   "source": []
  }
 ],
 "metadata": {
  "kernelspec": {
   "display_name": "Python 3",
   "language": "python",
   "name": "python3"
  },
  "language_info": {
   "codemirror_mode": {
    "name": "ipython",
    "version": 3
   },
   "file_extension": ".py",
   "mimetype": "text/x-python",
   "name": "python",
   "nbconvert_exporter": "python",
   "pygments_lexer": "ipython3",
   "version": "3.9.6"
  }
 },
 "nbformat": 4,
 "nbformat_minor": 2
}
